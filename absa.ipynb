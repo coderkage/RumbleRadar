{
 "cells": [
  {
   "cell_type": "code",
   "execution_count": 1,
   "id": "6410e90f-7c4d-41cc-93cd-a42b5f8f7c8a",
   "metadata": {},
   "outputs": [
    {
     "name": "stderr",
     "output_type": "stream",
     "text": [
      "[nltk_data] Downloading package punkt to\n",
      "[nltk_data]     C:\\Users\\deepp\\AppData\\Roaming\\nltk_data...\n",
      "[nltk_data]   Package punkt is already up-to-date!\n",
      "[nltk_data] Downloading package stopwords to\n",
      "[nltk_data]     C:\\Users\\deepp\\AppData\\Roaming\\nltk_data...\n",
      "[nltk_data]   Package stopwords is already up-to-date!\n",
      "[nltk_data] Downloading package wordnet to\n",
      "[nltk_data]     C:\\Users\\deepp\\AppData\\Roaming\\nltk_data...\n",
      "[nltk_data]   Package wordnet is already up-to-date!\n",
      "[nltk_data] Downloading package averaged_perceptron_tagger to\n",
      "[nltk_data]     C:\\Users\\deepp\\AppData\\Roaming\\nltk_data...\n",
      "[nltk_data]   Package averaged_perceptron_tagger is already up-to-\n",
      "[nltk_data]       date!\n",
      "[nltk_data] Downloading package vader_lexicon to\n",
      "[nltk_data]     C:\\Users\\deepp\\AppData\\Roaming\\nltk_data...\n",
      "[nltk_data]   Package vader_lexicon is already up-to-date!\n"
     ]
    },
    {
     "data": {
      "text/plain": [
       "True"
      ]
     },
     "execution_count": 1,
     "metadata": {},
     "output_type": "execute_result"
    }
   ],
   "source": [
    "import nltk\n",
    "from nltk.tokenize import word_tokenize\n",
    "from nltk.corpus import stopwords\n",
    "from nltk.stem import WordNetLemmatizer\n",
    "from nltk.corpus import wordnet\n",
    "from nltk import pos_tag\n",
    "from nltk.sentiment import SentimentIntensityAnalyzer\n",
    "from tqdm import tqdm\n",
    "nltk.download('punkt')\n",
    "nltk.download('stopwords')\n",
    "nltk.download('wordnet')\n",
    "nltk.download('averaged_perceptron_tagger')\n",
    "nltk.download('vader_lexicon')"
   ]
  },
  {
   "cell_type": "code",
   "execution_count": 2,
   "id": "dd916b90-cd10-4013-91fd-2790d5b3288b",
   "metadata": {},
   "outputs": [],
   "source": [
    "def preprocess(text):\n",
    "    # Tokenize\n",
    "    tokens = word_tokenize(text.lower())\n",
    "    # Remove stopwords\n",
    "    stop_words = set(stopwords.words('english'))\n",
    "    filtered_tokens = [word for word in tokens if word not in stop_words]\n",
    "    # Lemmatize\n",
    "    lemmatizer = WordNetLemmatizer()\n",
    "    lemmatized_tokens = [lemmatizer.lemmatize(word, get_wordnet_pos(tag)) for word, tag in pos_tag(filtered_tokens)]\n",
    "    return lemmatized_tokens\n",
    "\n",
    "def get_wordnet_pos(treebank_tag):\n",
    "    if treebank_tag.startswith('J'):\n",
    "        return wordnet.ADJ\n",
    "    elif treebank_tag.startswith('V'):\n",
    "        return wordnet.VERB\n",
    "    elif treebank_tag.startswith('N'):\n",
    "        return wordnet.NOUN\n",
    "    elif treebank_tag.startswith('R'):\n",
    "        return wordnet.ADV\n",
    "    else:\n",
    "        return wordnet.NOUN\n",
    "\n",
    "def absa(text, aspect):\n",
    "    preprocessed_text = preprocess(text)\n",
    "    aspect_sentiments = []\n",
    "    sid = SentimentIntensityAnalyzer()\n",
    "    for word in preprocessed_text:\n",
    "        if word == aspect:\n",
    "            aspect_sentiment = sid.polarity_scores(text)['compound']\n",
    "            aspect_sentiments.append(aspect_sentiment)\n",
    "    if aspect_sentiments:\n",
    "        avg_aspect_sentiment = sum(aspect_sentiments) / len(aspect_sentiments)\n",
    "        if avg_aspect_sentiment > 0:\n",
    "            return \"Positive\"\n",
    "        elif avg_aspect_sentiment < 0:\n",
    "            return \"Negative\"\n",
    "        else:\n",
    "            return \"Neutral\"\n",
    "    else:\n",
    "        return \"NA\""
   ]
  },
  {
   "cell_type": "code",
   "execution_count": 3,
   "id": "841103c6-6dc0-48d1-b7b4-0d0623a15610",
   "metadata": {
    "scrolled": true
   },
   "outputs": [
    {
     "data": {
      "text/html": [
       "<div>\n",
       "<style scoped>\n",
       "    .dataframe tbody tr th:only-of-type {\n",
       "        vertical-align: middle;\n",
       "    }\n",
       "\n",
       "    .dataframe tbody tr th {\n",
       "        vertical-align: top;\n",
       "    }\n",
       "\n",
       "    .dataframe thead th {\n",
       "        text-align: right;\n",
       "    }\n",
       "</style>\n",
       "<table border=\"1\" class=\"dataframe\">\n",
       "  <thead>\n",
       "    <tr style=\"text-align: right;\">\n",
       "      <th></th>\n",
       "      <th>text</th>\n",
       "      <th>date</th>\n",
       "      <th>original</th>\n",
       "      <th>genre</th>\n",
       "      <th>related</th>\n",
       "      <th>PII</th>\n",
       "      <th>request</th>\n",
       "      <th>offer</th>\n",
       "      <th>aid_related</th>\n",
       "      <th>medical_help</th>\n",
       "      <th>...</th>\n",
       "      <th>weather_related</th>\n",
       "      <th>floods</th>\n",
       "      <th>storm</th>\n",
       "      <th>fire</th>\n",
       "      <th>earthquake</th>\n",
       "      <th>cold</th>\n",
       "      <th>other_weather</th>\n",
       "      <th>direct_report</th>\n",
       "      <th>actionable_haiti</th>\n",
       "      <th>processed_text</th>\n",
       "    </tr>\n",
       "  </thead>\n",
       "  <tbody>\n",
       "    <tr>\n",
       "      <th>0</th>\n",
       "      <td>UN reports Leogane 80-90 destroyed. Only Hospi...</td>\n",
       "      <td>17-01-2010</td>\n",
       "      <td>UN reports Leogane 80-90 destroyed. Only Hospi...</td>\n",
       "      <td>direct</td>\n",
       "      <td>1</td>\n",
       "      <td>0</td>\n",
       "      <td>1</td>\n",
       "      <td>0</td>\n",
       "      <td>1</td>\n",
       "      <td>0</td>\n",
       "      <td>...</td>\n",
       "      <td>0</td>\n",
       "      <td>0</td>\n",
       "      <td>0</td>\n",
       "      <td>0</td>\n",
       "      <td>0</td>\n",
       "      <td>0</td>\n",
       "      <td>0</td>\n",
       "      <td>0</td>\n",
       "      <td>0</td>\n",
       "      <td>un reports leogane destroyed only hospital st ...</td>\n",
       "    </tr>\n",
       "    <tr>\n",
       "      <th>1</th>\n",
       "      <td>We are at Gressier we needs assistance right a...</td>\n",
       "      <td>17-01-2010</td>\n",
       "      <td>Se gressier nou an difikilte tanpri vin ede nou</td>\n",
       "      <td>direct</td>\n",
       "      <td>1</td>\n",
       "      <td>0</td>\n",
       "      <td>1</td>\n",
       "      <td>0</td>\n",
       "      <td>1</td>\n",
       "      <td>1</td>\n",
       "      <td>...</td>\n",
       "      <td>1</td>\n",
       "      <td>1</td>\n",
       "      <td>0</td>\n",
       "      <td>0</td>\n",
       "      <td>0</td>\n",
       "      <td>0</td>\n",
       "      <td>0</td>\n",
       "      <td>1</td>\n",
       "      <td>0</td>\n",
       "      <td>we are at gressier we needs assistance right a...</td>\n",
       "    </tr>\n",
       "    <tr>\n",
       "      <th>2</th>\n",
       "      <td>Delmas 33 in Silo, need water.</td>\n",
       "      <td>17-01-2010</td>\n",
       "      <td>Delma 33 silo gen problem dlo</td>\n",
       "      <td>direct</td>\n",
       "      <td>1</td>\n",
       "      <td>0</td>\n",
       "      <td>1</td>\n",
       "      <td>0</td>\n",
       "      <td>1</td>\n",
       "      <td>0</td>\n",
       "      <td>...</td>\n",
       "      <td>0</td>\n",
       "      <td>0</td>\n",
       "      <td>0</td>\n",
       "      <td>0</td>\n",
       "      <td>0</td>\n",
       "      <td>0</td>\n",
       "      <td>0</td>\n",
       "      <td>1</td>\n",
       "      <td>0</td>\n",
       "      <td>delmas in silo need water</td>\n",
       "    </tr>\n",
       "    <tr>\n",
       "      <th>3</th>\n",
       "      <td>SOS SOS, please provide police officers on the...</td>\n",
       "      <td>17-01-2010</td>\n",
       "      <td>EMGENCY EMGENCY SI POLIS LA TE KA BAY PREZANS ...</td>\n",
       "      <td>direct</td>\n",
       "      <td>1</td>\n",
       "      <td>0</td>\n",
       "      <td>1</td>\n",
       "      <td>0</td>\n",
       "      <td>1</td>\n",
       "      <td>0</td>\n",
       "      <td>...</td>\n",
       "      <td>0</td>\n",
       "      <td>0</td>\n",
       "      <td>0</td>\n",
       "      <td>0</td>\n",
       "      <td>0</td>\n",
       "      <td>0</td>\n",
       "      <td>0</td>\n",
       "      <td>1</td>\n",
       "      <td>0</td>\n",
       "      <td>sos sos please provide police officers on the ...</td>\n",
       "    </tr>\n",
       "    <tr>\n",
       "      <th>4</th>\n",
       "      <td>Is the Hurricane over or is it not over</td>\n",
       "      <td>17-01-2010</td>\n",
       "      <td>Cyclone nan fini osinon li pa fini</td>\n",
       "      <td>direct</td>\n",
       "      <td>1</td>\n",
       "      <td>0</td>\n",
       "      <td>0</td>\n",
       "      <td>0</td>\n",
       "      <td>1</td>\n",
       "      <td>0</td>\n",
       "      <td>...</td>\n",
       "      <td>1</td>\n",
       "      <td>0</td>\n",
       "      <td>1</td>\n",
       "      <td>0</td>\n",
       "      <td>0</td>\n",
       "      <td>0</td>\n",
       "      <td>0</td>\n",
       "      <td>0</td>\n",
       "      <td>0</td>\n",
       "      <td>is the hurricane over or is it not over</td>\n",
       "    </tr>\n",
       "    <tr>\n",
       "      <th>...</th>\n",
       "      <td>...</td>\n",
       "      <td>...</td>\n",
       "      <td>...</td>\n",
       "      <td>...</td>\n",
       "      <td>...</td>\n",
       "      <td>...</td>\n",
       "      <td>...</td>\n",
       "      <td>...</td>\n",
       "      <td>...</td>\n",
       "      <td>...</td>\n",
       "      <td>...</td>\n",
       "      <td>...</td>\n",
       "      <td>...</td>\n",
       "      <td>...</td>\n",
       "      <td>...</td>\n",
       "      <td>...</td>\n",
       "      <td>...</td>\n",
       "      <td>...</td>\n",
       "      <td>...</td>\n",
       "      <td>...</td>\n",
       "      <td>...</td>\n",
       "    </tr>\n",
       "    <tr>\n",
       "      <th>5177</th>\n",
       "      <td>When will they open the Faculties? and where w...</td>\n",
       "      <td>10-02-2010</td>\n",
       "      <td>Kil yap ouv fakilte yo epi kibo yap mete etidy...</td>\n",
       "      <td>direct</td>\n",
       "      <td>1</td>\n",
       "      <td>0</td>\n",
       "      <td>0</td>\n",
       "      <td>0</td>\n",
       "      <td>0</td>\n",
       "      <td>0</td>\n",
       "      <td>...</td>\n",
       "      <td>0</td>\n",
       "      <td>0</td>\n",
       "      <td>0</td>\n",
       "      <td>0</td>\n",
       "      <td>0</td>\n",
       "      <td>0</td>\n",
       "      <td>0</td>\n",
       "      <td>0</td>\n",
       "      <td>0</td>\n",
       "      <td>when will they open the faculties and where wi...</td>\n",
       "    </tr>\n",
       "    <tr>\n",
       "      <th>5178</th>\n",
       "      <td>Hello my dad was telling me that I could photo...</td>\n",
       "      <td>10-02-2010</td>\n",
       "      <td>Bonswa si pa egzanp papom tapdi mwen jwenn fot...</td>\n",
       "      <td>direct</td>\n",
       "      <td>0</td>\n",
       "      <td>0</td>\n",
       "      <td>0</td>\n",
       "      <td>0</td>\n",
       "      <td>0</td>\n",
       "      <td>0</td>\n",
       "      <td>...</td>\n",
       "      <td>0</td>\n",
       "      <td>0</td>\n",
       "      <td>0</td>\n",
       "      <td>0</td>\n",
       "      <td>0</td>\n",
       "      <td>0</td>\n",
       "      <td>0</td>\n",
       "      <td>0</td>\n",
       "      <td>0</td>\n",
       "      <td>hello my dad was telling me that could photoco...</td>\n",
       "    </tr>\n",
       "    <tr>\n",
       "      <th>5179</th>\n",
       "      <td>HALLO WE NEED TENTS CAN YOU SEND AS MANY YOU C...</td>\n",
       "      <td>10-02-2010</td>\n",
       "      <td>D'apres ce que je constate, c'est par contacte...</td>\n",
       "      <td>direct</td>\n",
       "      <td>1</td>\n",
       "      <td>0</td>\n",
       "      <td>1</td>\n",
       "      <td>0</td>\n",
       "      <td>1</td>\n",
       "      <td>0</td>\n",
       "      <td>...</td>\n",
       "      <td>0</td>\n",
       "      <td>0</td>\n",
       "      <td>0</td>\n",
       "      <td>0</td>\n",
       "      <td>0</td>\n",
       "      <td>0</td>\n",
       "      <td>0</td>\n",
       "      <td>1</td>\n",
       "      <td>0</td>\n",
       "      <td>hallo we need tents can you send as many you c...</td>\n",
       "    </tr>\n",
       "    <tr>\n",
       "      <th>5180</th>\n",
       "      <td>they poorly distributing the helps because onl...</td>\n",
       "      <td>10-02-2010</td>\n",
       "      <td>d yo ap mal distribiye paske W se fanm selman ...</td>\n",
       "      <td>direct</td>\n",
       "      <td>1</td>\n",
       "      <td>0</td>\n",
       "      <td>0</td>\n",
       "      <td>0</td>\n",
       "      <td>0</td>\n",
       "      <td>0</td>\n",
       "      <td>...</td>\n",
       "      <td>0</td>\n",
       "      <td>0</td>\n",
       "      <td>0</td>\n",
       "      <td>0</td>\n",
       "      <td>0</td>\n",
       "      <td>0</td>\n",
       "      <td>0</td>\n",
       "      <td>0</td>\n",
       "      <td>0</td>\n",
       "      <td>they poorly distributing the helps because onl...</td>\n",
       "    </tr>\n",
       "    <tr>\n",
       "      <th>5181</th>\n",
       "      <td>We need food and water in Carrefour-feuilles, ...</td>\n",
       "      <td>10-02-2010</td>\n",
       "      <td>We need food and water in Carrefour-feuille, S...</td>\n",
       "      <td>direct</td>\n",
       "      <td>1</td>\n",
       "      <td>0</td>\n",
       "      <td>1</td>\n",
       "      <td>0</td>\n",
       "      <td>1</td>\n",
       "      <td>0</td>\n",
       "      <td>...</td>\n",
       "      <td>0</td>\n",
       "      <td>0</td>\n",
       "      <td>0</td>\n",
       "      <td>0</td>\n",
       "      <td>0</td>\n",
       "      <td>0</td>\n",
       "      <td>0</td>\n",
       "      <td>1</td>\n",
       "      <td>0</td>\n",
       "      <td>we need food and water in carrefour feuilles s...</td>\n",
       "    </tr>\n",
       "  </tbody>\n",
       "</table>\n",
       "<p>5182 rows × 43 columns</p>\n",
       "</div>"
      ],
      "text/plain": [
       "                                                   text        date  \\\n",
       "0     UN reports Leogane 80-90 destroyed. Only Hospi...  17-01-2010   \n",
       "1     We are at Gressier we needs assistance right a...  17-01-2010   \n",
       "2                        Delmas 33 in Silo, need water.  17-01-2010   \n",
       "3     SOS SOS, please provide police officers on the...  17-01-2010   \n",
       "4               Is the Hurricane over or is it not over  17-01-2010   \n",
       "...                                                 ...         ...   \n",
       "5177  When will they open the Faculties? and where w...  10-02-2010   \n",
       "5178  Hello my dad was telling me that I could photo...  10-02-2010   \n",
       "5179  HALLO WE NEED TENTS CAN YOU SEND AS MANY YOU C...  10-02-2010   \n",
       "5180  they poorly distributing the helps because onl...  10-02-2010   \n",
       "5181  We need food and water in Carrefour-feuilles, ...  10-02-2010   \n",
       "\n",
       "                                               original   genre  related  PII  \\\n",
       "0     UN reports Leogane 80-90 destroyed. Only Hospi...  direct        1    0   \n",
       "1       Se gressier nou an difikilte tanpri vin ede nou  direct        1    0   \n",
       "2                         Delma 33 silo gen problem dlo  direct        1    0   \n",
       "3     EMGENCY EMGENCY SI POLIS LA TE KA BAY PREZANS ...  direct        1    0   \n",
       "4                    Cyclone nan fini osinon li pa fini  direct        1    0   \n",
       "...                                                 ...     ...      ...  ...   \n",
       "5177  Kil yap ouv fakilte yo epi kibo yap mete etidy...  direct        1    0   \n",
       "5178  Bonswa si pa egzanp papom tapdi mwen jwenn fot...  direct        0    0   \n",
       "5179  D'apres ce que je constate, c'est par contacte...  direct        1    0   \n",
       "5180  d yo ap mal distribiye paske W se fanm selman ...  direct        1    0   \n",
       "5181  We need food and water in Carrefour-feuille, S...  direct        1    0   \n",
       "\n",
       "      request  offer  aid_related  medical_help  ...  weather_related  floods  \\\n",
       "0           1      0            1             0  ...                0       0   \n",
       "1           1      0            1             1  ...                1       1   \n",
       "2           1      0            1             0  ...                0       0   \n",
       "3           1      0            1             0  ...                0       0   \n",
       "4           0      0            1             0  ...                1       0   \n",
       "...       ...    ...          ...           ...  ...              ...     ...   \n",
       "5177        0      0            0             0  ...                0       0   \n",
       "5178        0      0            0             0  ...                0       0   \n",
       "5179        1      0            1             0  ...                0       0   \n",
       "5180        0      0            0             0  ...                0       0   \n",
       "5181        1      0            1             0  ...                0       0   \n",
       "\n",
       "      storm  fire  earthquake  cold  other_weather  direct_report  \\\n",
       "0         0     0           0     0              0              0   \n",
       "1         0     0           0     0              0              1   \n",
       "2         0     0           0     0              0              1   \n",
       "3         0     0           0     0              0              1   \n",
       "4         1     0           0     0              0              0   \n",
       "...     ...   ...         ...   ...            ...            ...   \n",
       "5177      0     0           0     0              0              0   \n",
       "5178      0     0           0     0              0              0   \n",
       "5179      0     0           0     0              0              1   \n",
       "5180      0     0           0     0              0              0   \n",
       "5181      0     0           0     0              0              1   \n",
       "\n",
       "      actionable_haiti                                     processed_text  \n",
       "0                    0  un reports leogane destroyed only hospital st ...  \n",
       "1                    0  we are at gressier we needs assistance right a...  \n",
       "2                    0                         delmas in silo need water   \n",
       "3                    0  sos sos please provide police officers on the ...  \n",
       "4                    0            is the hurricane over or is it not over  \n",
       "...                ...                                                ...  \n",
       "5177                 0  when will they open the faculties and where wi...  \n",
       "5178                 0  hello my dad was telling me that could photoco...  \n",
       "5179                 0  hallo we need tents can you send as many you c...  \n",
       "5180                 0  they poorly distributing the helps because onl...  \n",
       "5181                 0  we need food and water in carrefour feuilles s...  \n",
       "\n",
       "[5182 rows x 43 columns]"
      ]
     },
     "execution_count": 3,
     "metadata": {},
     "output_type": "execute_result"
    }
   ],
   "source": [
    "import pandas as pd\n",
    "\n",
    "df = pd.read_csv('preprocessed_0f_haiti.csv',low_memory=False)\n",
    "# df.drop(['genre', 'original', 'PII', 'floods', 'storm', 'cold', 'other_weather'], axis=1, inplace=True)\n",
    "df"
   ]
  },
  {
   "cell_type": "code",
   "execution_count": 4,
   "id": "eb41d1ee-527b-452a-948b-7a21cadbc7cf",
   "metadata": {},
   "outputs": [],
   "source": [
    "import matplotlib.pyplot as plt"
   ]
  },
  {
   "cell_type": "code",
   "execution_count": 5,
   "id": "60152d09-1c21-4a5e-a521-d9cce88285fc",
   "metadata": {},
   "outputs": [],
   "source": [
    "# Define the arrays for each aspect\n",
    "aspects = {\n",
    "    'Death': [\"death\", \"died\", \"dying\", \"die\", \"will die\"],\n",
    "    'Injury': [\"injured\", \"injuries\", \"injury\", \"hurt\", \"wounded\", \"bleeding\"],\n",
    "    'Property Damage': [\"damage\", \"destroyed\", \"ruined\", \"collapsed\", \"broken\", \"infrastructure\", \"roads\", \"bridges\"],\n",
    "    'Rescue Efforts': [\"rescue\", \"rescued\", \"rescuing\", \"aid\", \"assistance\", \"help\"],\n",
    "    'Fear and Panic': [\"fear\", \"panic\", \"terrified\", \"scared\", \"frightened\", \"trauma\", \"PTSD\", \"stress\", \"anxiety\"],\n",
    "    'Relief and Support': [\"relief\", \"support\", \"help\", \"assistance\", \"aid\"],\n",
    "    'Food Availability': [\"food\", \"hungry\", \"starving\", \"food shortage\", \"meal\"],\n",
    "    'Shelter': [\"shelter\", \"housing\", \"homeless\", \"evacuation center\", \"temporary shelter\", \"house\", \"home\"],\n",
    "    'Government Response': [\"government\", \"officials\", \"response\", \"relief efforts\", \"emergency services\"],\n",
    "    'Requests for Help': [\"help\", \"assistance needed\", \"urgent help\", \"plea for help\", \"request for aid\"],\n",
    "    'Basic Needs': [\"basic needs\", \"water\", \"clothing\", \"medicine\", \"medical supplies\"],\n",
    "}"
   ]
  },
  {
   "cell_type": "code",
   "execution_count": 6,
   "id": "9b5a5be5-22b6-404d-b638-7048999979d6",
   "metadata": {},
   "outputs": [
    {
     "name": "stdout",
     "output_type": "stream",
     "text": [
      "Available arrays:\n",
      "1. Death\n",
      "2. Injury\n",
      "3. Property Damage\n",
      "4. Rescue Efforts\n",
      "5. Fear and Panic\n",
      "6. Relief and Support\n",
      "7. Food Availability\n",
      "8. Shelter\n",
      "9. Government Response\n",
      "10. Requests for Help\n",
      "11. Basic Needs\n"
     ]
    },
    {
     "name": "stdin",
     "output_type": "stream",
     "text": [
      "Please enter the number corresponding to the array you want to proceed with:  1\n"
     ]
    },
    {
     "name": "stdout",
     "output_type": "stream",
     "text": [
      "Selected array: ['death', 'died', 'dying', 'die', 'will die']\n"
     ]
    }
   ],
   "source": [
    "# Display the available arrays for the user to choose from\n",
    "print(\"Available arrays:\")\n",
    "for idx, aspect in enumerate(aspects.keys()):\n",
    "    print(f\"{idx + 1}. {aspect}\")\n",
    "\n",
    "# Ask the user to choose an array\n",
    "selected_index = int(input(\"Please enter the number corresponding to the array you want to proceed with: \")) - 1\n",
    "\n",
    "# Get the selected array based on the index provided by the user\n",
    "selected_array = list(aspects.values())[selected_index]\n",
    "\n",
    "# Display the selected array\n",
    "print(\"Selected array:\", selected_array)"
   ]
  },
  {
   "cell_type": "code",
   "execution_count": 7,
   "id": "6c0be161-668c-4656-aabf-aec361337bc2",
   "metadata": {},
   "outputs": [
    {
     "data": {
      "text/plain": [
       "['death', 'died', 'dying', 'die', 'will die']"
      ]
     },
     "execution_count": 7,
     "metadata": {},
     "output_type": "execute_result"
    }
   ],
   "source": [
    "selected_array"
   ]
  },
  {
   "cell_type": "code",
   "execution_count": 8,
   "id": "5fe1f249-d118-481d-b1fa-4d3e35993c64",
   "metadata": {
    "scrolled": true
   },
   "outputs": [
    {
     "name": "stderr",
     "output_type": "stream",
     "text": [
      "Processing Tweets: 100%|███████████████████████████████████████████████████████████| 5182/5182 [04:33<00:00, 18.95it/s]\n"
     ]
    }
   ],
   "source": [
    "sentiments = []  # List to store sentiments for each aspect\n",
    "\n",
    "# Loop through each row in the DataFrame with a progress bar\n",
    "for index, row in tqdm(df.iterrows(), total=len(df), desc=\"Processing Tweets\"):\n",
    "    tweet_text = row['processed_text']\n",
    "    \n",
    "    aspect_sentiments = {}  # Dictionary to store sentiment for each aspect in the current tweet\n",
    "    \n",
    "    for aspect in selected_array:\n",
    "        sentiment = absa(tweet_text, aspect)  # Assuming absa() function returns sentiment for given aspect\n",
    "        aspect_sentiments[aspect] = sentiment\n",
    "        \n",
    "    sentiments.append(aspect_sentiments)"
   ]
  },
  {
   "cell_type": "code",
   "execution_count": 11,
   "id": "7e0e6edb-712e-410d-9ac5-be2fe47ea62d",
   "metadata": {},
   "outputs": [
    {
     "data": {
      "image/png": "[encoded data removed]",
      "text/plain": [
       "<Figure size 640x480 with 1 Axes>"
      ]
     },
     "metadata": {},
     "output_type": "display_data"
    }
   ],
   "source": [
    "# Initialize sentiment counts for each aspect\n",
    "sentiment_counts = {aspect: {'Positive': 0, 'Negative': 0, 'Neutral': 0, 'NA': 0} for aspect in aspects}\n",
    "total_sentiment_counts = {'Positive': 0, 'Negative': 0, 'Neutral': 0, 'NA': 0}\n",
    "# Update sentiment counts for each aspect\n",
    "for aspect_sentiments in sentiments:\n",
    "    for aspect, sentiment in aspect_sentiments.items():\n",
    "        if sentiment != 'NA':  # Exclude the last sentiment\n",
    "            total_sentiment_counts[sentiment] += 1\n",
    "        \n",
    "# Aggregate sentiment counts across all aspects\n",
    "for aspect_sentiments in sentiments:\n",
    "    for aspect, sentiment in aspect_sentiments.items():\n",
    "        if sentiment != 'NA':  # Exclude the last sentiment\n",
    "            total_sentiment_counts[sentiment] += 1\n",
    "\n",
    "del total_sentiment_counts['NA']\n",
    "# Plot the graph for total sentiment counts\n",
    "plt.bar(total_sentiment_counts.keys(), total_sentiment_counts.values())\n",
    "plt.title(\"Aspect: Death\")\n",
    "plt.xlabel('Sentiment')\n",
    "plt.ylabel('Count')\n",
    "plt.show()"
   ]
  },
  {
   "cell_type": "code",
   "execution_count": 12,
   "id": "281aefc7-2847-40eb-a32a-8884a3e309b9",
   "metadata": {},
   "outputs": [
    {
     "name": "stdout",
     "output_type": "stream",
     "text": [
      "1. Death\n",
      "2. Injury\n",
      "3. Property Damage\n",
      "4. Rescue Efforts\n",
      "5. Fear and Panic\n",
      "6. Relief and Support\n",
      "7. Food Availability\n",
      "8. Shelter\n",
      "9. Government Response\n",
      "10. Requests for Help\n",
      "11. Basic Needs\n"
     ]
    },
    {
     "name": "stdin",
     "output_type": "stream",
     "text": [
      "Please enter the number corresponding to the array you want to proceed with:  2\n"
     ]
    },
    {
     "name": "stdout",
     "output_type": "stream",
     "text": [
      "Selected array: ['injured', 'injuries', 'injury', 'hurt', 'wounded', 'bleeding']\n"
     ]
    },
    {
     "name": "stderr",
     "output_type": "stream",
     "text": [
      "Processing Tweets: 100%|███████████████████████████████████████████████████████████| 5182/5182 [03:01<00:00, 28.56it/s]\n"
     ]
    },
    {
     "data": {
      "image/png": "[encoded data removed]",
      "text/plain": [
       "<Figure size 640x480 with 1 Axes>"
      ]
     },
     "metadata": {},
     "output_type": "display_data"
    }
   ],
   "source": [
    "for idx, aspect in enumerate(aspects.keys()):\n",
    "    print(f\"{idx + 1}. {aspect}\")\n",
    "\n",
    "# Ask the user to choose an array\n",
    "selected_index = int(input(\"Please enter the number corresponding to the array you want to proceed with: \")) - 1\n",
    "\n",
    "# Get the selected array based on the index provided by the user\n",
    "selected_array = list(aspects.values())[selected_index]\n",
    "\n",
    "# Display the selected array\n",
    "print(\"Selected array:\", selected_array)\n",
    "\n",
    "sentiments = []  # List to store sentiments for each aspect\n",
    "\n",
    "# Loop through each row in the DataFrame with a progress bar\n",
    "for index, row in tqdm(df.iterrows(), total=len(df), desc=\"Processing Tweets\"):\n",
    "    tweet_text = row['processed_text']\n",
    "    \n",
    "    aspect_sentiments = {}  # Dictionary to store sentiment for each aspect in the current tweet\n",
    "    \n",
    "    for aspect in selected_array:\n",
    "        sentiment = absa(tweet_text, aspect)  # Assuming absa() function returns sentiment for given aspect\n",
    "        aspect_sentiments[aspect] = sentiment\n",
    "        \n",
    "    sentiments.append(aspect_sentiments)\n",
    "\n",
    "sentiment_counts = {aspect: {'Positive': 0, 'Negative': 0, 'Neutral': 0, 'NA': 0} for aspect in aspects}\n",
    "total_sentiment_counts = {'Positive': 0, 'Negative': 0, 'Neutral': 0, 'NA': 0}\n",
    "# Update sentiment counts for each aspect\n",
    "for aspect_sentiments in sentiments:\n",
    "    for aspect, sentiment in aspect_sentiments.items():\n",
    "        if sentiment != 'NA':  # Exclude the last sentiment\n",
    "            total_sentiment_counts[sentiment] += 1\n",
    "        \n",
    "# Aggregate sentiment counts across all aspects\n",
    "for aspect_sentiments in sentiments:\n",
    "    for aspect, sentiment in aspect_sentiments.items():\n",
    "        if sentiment != 'NA':  # Exclude the last sentiment\n",
    "            total_sentiment_counts[sentiment] += 1\n",
    "\n",
    "del total_sentiment_counts['NA']\n",
    "# Plot the graph for total sentiment counts\n",
    "plt.bar(total_sentiment_counts.keys(), total_sentiment_counts.values())\n",
    "plt.title(\"Aspect: Death\")\n",
    "plt.xlabel('Sentiment')\n",
    "plt.ylabel('Count')\n",
    "plt.show()"
   ]
  },
  {
   "cell_type": "code",
   "execution_count": 13,
   "id": "feec698b-96c0-4681-a5bc-580bc65c6107",
   "metadata": {},
   "outputs": [
    {
     "data": {
      "image/png": "[encoded data removed]",
      "text/plain": [
       "<Figure size 640x480 with 1 Axes>"
      ]
     },
     "metadata": {},
     "output_type": "display_data"
    }
   ],
   "source": [
    "plt.bar(total_sentiment_counts.keys(), total_sentiment_counts.values())\n",
    "plt.title(\"Aspect: Injuries\")\n",
    "plt.xlabel('Sentiment')\n",
    "plt.ylabel('Count')\n",
    "plt.show()"
   ]
  },
  {
   "cell_type": "code",
   "execution_count": 14,
   "id": "b94b19ad-0f76-4f7b-8d86-7194bff103e0",
   "metadata": {},
   "outputs": [
    {
     "name": "stdout",
     "output_type": "stream",
     "text": [
      "1. Death\n",
      "2. Injury\n",
      "3. Property Damage\n",
      "4. Rescue Efforts\n",
      "5. Fear and Panic\n",
      "6. Relief and Support\n",
      "7. Food Availability\n",
      "8. Shelter\n",
      "9. Government Response\n",
      "10. Requests for Help\n",
      "11. Basic Needs\n"
     ]
    },
    {
     "name": "stdin",
     "output_type": "stream",
     "text": [
      "Please enter the number corresponding to the array you want to proceed with:  3\n"
     ]
    },
    {
     "name": "stdout",
     "output_type": "stream",
     "text": [
      "Selected array: ['damage', 'destroyed', 'ruined', 'collapsed', 'broken', 'infrastructure', 'roads', 'bridges']\n"
     ]
    },
    {
     "name": "stderr",
     "output_type": "stream",
     "text": [
      "Processing Tweets: 100%|███████████████████████████████████████████████████████████| 5182/5182 [04:02<00:00, 21.37it/s]\n"
     ]
    }
   ],
   "source": [
    "for idx, aspect in enumerate(aspects.keys()):\n",
    "    print(f\"{idx + 1}. {aspect}\")\n",
    "\n",
    "# Ask the user to choose an array\n",
    "selected_index = int(input(\"Please enter the number corresponding to the array you want to proceed with: \")) - 1\n",
    "\n",
    "# Get the selected array based on the index provided by the user\n",
    "selected_array = list(aspects.values())[selected_index]\n",
    "\n",
    "# Display the selected array\n",
    "print(\"Selected array:\", selected_array)\n",
    "\n",
    "sentiments = []  # List to store sentiments for each aspect\n",
    "\n",
    "# Loop through each row in the DataFrame with a progress bar\n",
    "for index, row in tqdm(df.iterrows(), total=len(df), desc=\"Processing Tweets\"):\n",
    "    tweet_text = row['processed_text']\n",
    "    \n",
    "    aspect_sentiments = {}  # Dictionary to store sentiment for each aspect in the current tweet\n",
    "    \n",
    "    for aspect in selected_array:\n",
    "        sentiment = absa(tweet_text, aspect)  # Assuming absa() function returns sentiment for given aspect\n",
    "        aspect_sentiments[aspect] = sentiment\n",
    "        \n",
    "    sentiments.append(aspect_sentiments)\n",
    "\n",
    "sentiment_counts = {aspect: {'Positive': 0, 'Negative': 0, 'Neutral': 0, 'NA': 0} for aspect in aspects}\n",
    "total_sentiment_counts = {'Positive': 0, 'Negative': 0, 'Neutral': 0, 'NA': 0}\n",
    "# Update sentiment counts for each aspect\n",
    "for aspect_sentiments in sentiments:\n",
    "    for aspect, sentiment in aspect_sentiments.items():\n",
    "        if sentiment != 'NA':  # Exclude the last sentiment\n",
    "            total_sentiment_counts[sentiment] += 1\n",
    "        \n",
    "# Aggregate sentiment counts across all aspects\n",
    "for aspect_sentiments in sentiments:\n",
    "    for aspect, sentiment in aspect_sentiments.items():\n",
    "        if sentiment != 'NA':  # Exclude the last sentiment\n",
    "            total_sentiment_counts[sentiment] += 1"
   ]
  },
  {
   "cell_type": "code",
   "execution_count": 15,
   "id": "174222ef-c2c8-43e6-8666-3da1c4aefcd3",
   "metadata": {},
   "outputs": [
    {
     "data": {
      "image/png": "[encoded data removed]",
      "text/plain": [
       "<Figure size 640x480 with 1 Axes>"
      ]
     },
     "metadata": {},
     "output_type": "display_data"
    }
   ],
   "source": [
    "plt.bar(total_sentiment_counts.keys(), total_sentiment_counts.values())\n",
    "plt.title(\"Aspect: Property Damage\")\n",
    "plt.xlabel('Sentiment')\n",
    "plt.ylabel('Count')\n",
    "plt.show()"
   ]
  },
  {
   "cell_type": "code",
   "execution_count": 16,
   "id": "ec0dfe9e-32ba-4f82-8716-03251b0f4ddf",
   "metadata": {},
   "outputs": [
    {
     "name": "stdout",
     "output_type": "stream",
     "text": [
      "1. Death\n",
      "2. Injury\n",
      "3. Property Damage\n",
      "4. Rescue Efforts\n",
      "5. Fear and Panic\n",
      "6. Relief and Support\n",
      "7. Food Availability\n",
      "8. Shelter\n",
      "9. Government Response\n",
      "10. Requests for Help\n",
      "11. Basic Needs\n"
     ]
    },
    {
     "name": "stdin",
     "output_type": "stream",
     "text": [
      "Please enter the number corresponding to the array you want to proceed with:  4\n"
     ]
    },
    {
     "name": "stdout",
     "output_type": "stream",
     "text": [
      "Selected array: ['rescue', 'rescued', 'rescuing', 'aid', 'assistance', 'help']\n"
     ]
    },
    {
     "name": "stderr",
     "output_type": "stream",
     "text": [
      "Processing Tweets: 100%|███████████████████████████████████████████████████████████| 5182/5182 [03:04<00:00, 28.16it/s]\n"
     ]
    }
   ],
   "source": [
    "for idx, aspect in enumerate(aspects.keys()):\n",
    "    print(f\"{idx + 1}. {aspect}\")\n",
    "\n",
    "# Ask the user to choose an array\n",
    "selected_index = int(input(\"Please enter the number corresponding to the array you want to proceed with: \")) - 1\n",
    "\n",
    "# Get the selected array based on the index provided by the user\n",
    "selected_array = list(aspects.values())[selected_index]\n",
    "\n",
    "# Display the selected array\n",
    "print(\"Selected array:\", selected_array)\n",
    "\n",
    "sentiments = []  # List to store sentiments for each aspect\n",
    "\n",
    "# Loop through each row in the DataFrame with a progress bar\n",
    "for index, row in tqdm(df.iterrows(), total=len(df), desc=\"Processing Tweets\"):\n",
    "    tweet_text = row['processed_text']\n",
    "    \n",
    "    aspect_sentiments = {}  # Dictionary to store sentiment for each aspect in the current tweet\n",
    "    \n",
    "    for aspect in selected_array:\n",
    "        sentiment = absa(tweet_text, aspect)  # Assuming absa() function returns sentiment for given aspect\n",
    "        aspect_sentiments[aspect] = sentiment\n",
    "        \n",
    "    sentiments.append(aspect_sentiments)\n",
    "\n",
    "sentiment_counts = {aspect: {'Positive': 0, 'Negative': 0, 'Neutral': 0, 'NA': 0} for aspect in aspects}\n",
    "total_sentiment_counts = {'Positive': 0, 'Negative': 0, 'Neutral': 0, 'NA': 0}\n",
    "# Update sentiment counts for each aspect\n",
    "for aspect_sentiments in sentiments:\n",
    "    for aspect, sentiment in aspect_sentiments.items():\n",
    "        if sentiment != 'NA':  # Exclude the last sentiment\n",
    "            total_sentiment_counts[sentiment] += 1\n",
    "        \n",
    "# Aggregate sentiment counts across all aspects\n",
    "for aspect_sentiments in sentiments:\n",
    "    for aspect, sentiment in aspect_sentiments.items():\n",
    "        if sentiment != 'NA':  # Exclude the last sentiment\n",
    "            total_sentiment_counts[sentiment] += 1"
   ]
  },
  {
   "cell_type": "code",
   "execution_count": 17,
   "id": "1035176b-7065-4d98-9008-7e500609f7a8",
   "metadata": {},
   "outputs": [
    {
     "data": {
      "image/png": "[encoded data removed]",
      "text/plain": [
       "<Figure size 640x480 with 1 Axes>"
      ]
     },
     "metadata": {},
     "output_type": "display_data"
    }
   ],
   "source": [
    "plt.bar(total_sentiment_counts.keys(), total_sentiment_counts.values())\n",
    "plt.title(\"Aspect: Rescue Efforts\")\n",
    "plt.xlabel('Sentiment')\n",
    "plt.ylabel('Count')\n",
    "plt.show()"
   ]
  },
  {
   "cell_type": "code",
   "execution_count": 18,
   "id": "a1359787-001e-405d-8437-41c9065b92bb",
   "metadata": {},
   "outputs": [
    {
     "name": "stdout",
     "output_type": "stream",
     "text": [
      "1. Death\n",
      "2. Injury\n",
      "3. Property Damage\n",
      "4. Rescue Efforts\n",
      "5. Fear and Panic\n",
      "6. Relief and Support\n",
      "7. Food Availability\n",
      "8. Shelter\n",
      "9. Government Response\n",
      "10. Requests for Help\n",
      "11. Basic Needs\n"
     ]
    },
    {
     "name": "stdin",
     "output_type": "stream",
     "text": [
      "Please enter the number corresponding to the array you want to proceed with:  5\n"
     ]
    },
    {
     "name": "stdout",
     "output_type": "stream",
     "text": [
      "Selected array: ['fear', 'panic', 'terrified', 'scared', 'frightened', 'trauma', 'PTSD', 'stress', 'anxiety']\n"
     ]
    },
    {
     "name": "stderr",
     "output_type": "stream",
     "text": [
      "Processing Tweets: 100%|███████████████████████████████████████████████████████████| 5182/5182 [04:42<00:00, 18.36it/s]\n"
     ]
    }
   ],
   "source": [
    "for idx, aspect in enumerate(aspects.keys()):\n",
    "    print(f\"{idx + 1}. {aspect}\")\n",
    "\n",
    "# Ask the user to choose an array\n",
    "selected_index = int(input(\"Please enter the number corresponding to the array you want to proceed with: \")) - 1\n",
    "\n",
    "# Get the selected array based on the index provided by the user\n",
    "selected_array = list(aspects.values())[selected_index]\n",
    "\n",
    "# Display the selected array\n",
    "print(\"Selected array:\", selected_array)\n",
    "\n",
    "sentiments = []  # List to store sentiments for each aspect\n",
    "\n",
    "# Loop through each row in the DataFrame with a progress bar\n",
    "for index, row in tqdm(df.iterrows(), total=len(df), desc=\"Processing Tweets\"):\n",
    "    tweet_text = row['processed_text']\n",
    "    \n",
    "    aspect_sentiments = {}  # Dictionary to store sentiment for each aspect in the current tweet\n",
    "    \n",
    "    for aspect in selected_array:\n",
    "        sentiment = absa(tweet_text, aspect)  # Assuming absa() function returns sentiment for given aspect\n",
    "        aspect_sentiments[aspect] = sentiment\n",
    "        \n",
    "    sentiments.append(aspect_sentiments)\n",
    "\n",
    "sentiment_counts = {aspect: {'Positive': 0, 'Negative': 0, 'Neutral': 0, 'NA': 0} for aspect in aspects}\n",
    "total_sentiment_counts = {'Positive': 0, 'Negative': 0, 'Neutral': 0, 'NA': 0}\n",
    "# Update sentiment counts for each aspect\n",
    "for aspect_sentiments in sentiments:\n",
    "    for aspect, sentiment in aspect_sentiments.items():\n",
    "        if sentiment != 'NA':  # Exclude the last sentiment\n",
    "            total_sentiment_counts[sentiment] += 1\n",
    "        \n",
    "# Aggregate sentiment counts across all aspects\n",
    "for aspect_sentiments in sentiments:\n",
    "    for aspect, sentiment in aspect_sentiments.items():\n",
    "        if sentiment != 'NA':  # Exclude the last sentiment\n",
    "            total_sentiment_counts[sentiment] += 1"
   ]
  },
  {
   "cell_type": "code",
   "execution_count": 19,
   "id": "47d92617-3ecc-4798-b720-8b7da230239b",
   "metadata": {},
   "outputs": [
    {
     "data": {
      "image/png": "[encoded data removed]",
      "text/plain": [
       "<Figure size 640x480 with 1 Axes>"
      ]
     },
     "metadata": {},
     "output_type": "display_data"
    }
   ],
   "source": [
    "plt.bar(total_sentiment_counts.keys(), total_sentiment_counts.values())\n",
    "plt.title(\"Aspect: Fear and Panic\")\n",
    "plt.xlabel('Sentiment')\n",
    "plt.ylabel('Count')\n",
    "plt.show()"
   ]
  },
  {
   "cell_type": "code",
   "execution_count": 20,
   "id": "98148d0c-d395-4938-aaaa-3e7de55ffdb0",
   "metadata": {},
   "outputs": [
    {
     "name": "stdout",
     "output_type": "stream",
     "text": [
      "1. Death\n",
      "2. Injury\n",
      "3. Property Damage\n",
      "4. Rescue Efforts\n",
      "5. Fear and Panic\n",
      "6. Relief and Support\n",
      "7. Food Availability\n",
      "8. Shelter\n",
      "9. Government Response\n",
      "10. Requests for Help\n",
      "11. Basic Needs\n"
     ]
    },
    {
     "name": "stdin",
     "output_type": "stream",
     "text": [
      "Please enter the number corresponding to the array you want to proceed with:  6\n"
     ]
    },
    {
     "name": "stdout",
     "output_type": "stream",
     "text": [
      "Selected array: ['relief', 'support', 'help', 'assistance', 'aid']\n"
     ]
    },
    {
     "name": "stderr",
     "output_type": "stream",
     "text": [
      "Processing Tweets: 100%|███████████████████████████████████████████████████████████| 5182/5182 [02:35<00:00, 33.43it/s]\n"
     ]
    }
   ],
   "source": [
    "for idx, aspect in enumerate(aspects.keys()):\n",
    "    print(f\"{idx + 1}. {aspect}\")\n",
    "\n",
    "# Ask the user to choose an array\n",
    "selected_index = int(input(\"Please enter the number corresponding to the array you want to proceed with: \")) - 1\n",
    "\n",
    "# Get the selected array based on the index provided by the user\n",
    "selected_array = list(aspects.values())[selected_index]\n",
    "\n",
    "# Display the selected array\n",
    "print(\"Selected array:\", selected_array)\n",
    "\n",
    "sentiments = []  # List to store sentiments for each aspect\n",
    "\n",
    "# Loop through each row in the DataFrame with a progress bar\n",
    "for index, row in tqdm(df.iterrows(), total=len(df), desc=\"Processing Tweets\"):\n",
    "    tweet_text = row['processed_text']\n",
    "    \n",
    "    aspect_sentiments = {}  # Dictionary to store sentiment for each aspect in the current tweet\n",
    "    \n",
    "    for aspect in selected_array:\n",
    "        sentiment = absa(tweet_text, aspect)  # Assuming absa() function returns sentiment for given aspect\n",
    "        aspect_sentiments[aspect] = sentiment\n",
    "        \n",
    "    sentiments.append(aspect_sentiments)\n",
    "\n",
    "sentiment_counts = {aspect: {'Positive': 0, 'Negative': 0, 'Neutral': 0, 'NA': 0} for aspect in aspects}\n",
    "total_sentiment_counts = {'Positive': 0, 'Negative': 0, 'Neutral': 0, 'NA': 0}\n",
    "# Update sentiment counts for each aspect\n",
    "for aspect_sentiments in sentiments:\n",
    "    for aspect, sentiment in aspect_sentiments.items():\n",
    "        if sentiment != 'NA':  # Exclude the last sentiment\n",
    "            total_sentiment_counts[sentiment] += 1\n",
    "        \n",
    "# Aggregate sentiment counts across all aspects\n",
    "for aspect_sentiments in sentiments:\n",
    "    for aspect, sentiment in aspect_sentiments.items():\n",
    "        if sentiment != 'NA':  # Exclude the last sentiment\n",
    "            total_sentiment_counts[sentiment] += 1"
   ]
  },
  {
   "cell_type": "code",
   "execution_count": 21,
   "id": "0bbca972-0c15-44b1-bb8e-c2f7e84b1312",
   "metadata": {},
   "outputs": [
    {
     "data": {
      "image/png": "[encoded data removed]",
      "text/plain": [
       "<Figure size 640x480 with 1 Axes>"
      ]
     },
     "metadata": {},
     "output_type": "display_data"
    }
   ],
   "source": [
    "plt.bar(total_sentiment_counts.keys(), total_sentiment_counts.values())\n",
    "plt.title(\"Aspect: Relief and Support\")\n",
    "plt.xlabel('Sentiment')\n",
    "plt.ylabel('Count')\n",
    "plt.show()"
   ]
  },
  {
   "cell_type": "code",
   "execution_count": 22,
   "id": "e82a1110-6dfa-44c7-9189-09e108a75883",
   "metadata": {},
   "outputs": [
    {
     "name": "stdout",
     "output_type": "stream",
     "text": [
      "1. Death\n",
      "2. Injury\n",
      "3. Property Damage\n",
      "4. Rescue Efforts\n",
      "5. Fear and Panic\n",
      "6. Relief and Support\n",
      "7. Food Availability\n",
      "8. Shelter\n",
      "9. Government Response\n",
      "10. Requests for Help\n",
      "11. Basic Needs\n"
     ]
    },
    {
     "name": "stdin",
     "output_type": "stream",
     "text": [
      "Please enter the number corresponding to the array you want to proceed with:  7\n"
     ]
    },
    {
     "name": "stdout",
     "output_type": "stream",
     "text": [
      "Selected array: ['food', 'hungry', 'starving', 'food shortage', 'meal']\n"
     ]
    },
    {
     "name": "stderr",
     "output_type": "stream",
     "text": [
      "Processing Tweets: 100%|███████████████████████████████████████████████████████████| 5182/5182 [02:35<00:00, 33.22it/s]\n"
     ]
    }
   ],
   "source": [
    "for idx, aspect in enumerate(aspects.keys()):\n",
    "    print(f\"{idx + 1}. {aspect}\")\n",
    "\n",
    "# Ask the user to choose an array\n",
    "selected_index = int(input(\"Please enter the number corresponding to the array you want to proceed with: \")) - 1\n",
    "\n",
    "# Get the selected array based on the index provided by the user\n",
    "selected_array = list(aspects.values())[selected_index]\n",
    "\n",
    "# Display the selected array\n",
    "print(\"Selected array:\", selected_array)\n",
    "\n",
    "sentiments = []  # List to store sentiments for each aspect\n",
    "\n",
    "# Loop through each row in the DataFrame with a progress bar\n",
    "for index, row in tqdm(df.iterrows(), total=len(df), desc=\"Processing Tweets\"):\n",
    "    tweet_text = row['processed_text']\n",
    "    \n",
    "    aspect_sentiments = {}  # Dictionary to store sentiment for each aspect in the current tweet\n",
    "    \n",
    "    for aspect in selected_array:\n",
    "        sentiment = absa(tweet_text, aspect)  # Assuming absa() function returns sentiment for given aspect\n",
    "        aspect_sentiments[aspect] = sentiment\n",
    "        \n",
    "    sentiments.append(aspect_sentiments)\n",
    "\n",
    "sentiment_counts = {aspect: {'Positive': 0, 'Negative': 0, 'Neutral': 0, 'NA': 0} for aspect in aspects}\n",
    "total_sentiment_counts = {'Positive': 0, 'Negative': 0, 'Neutral': 0, 'NA': 0}\n",
    "# Update sentiment counts for each aspect\n",
    "for aspect_sentiments in sentiments:\n",
    "    for aspect, sentiment in aspect_sentiments.items():\n",
    "        if sentiment != 'NA':  # Exclude the last sentiment\n",
    "            total_sentiment_counts[sentiment] += 1\n",
    "        \n",
    "# Aggregate sentiment counts across all aspects\n",
    "for aspect_sentiments in sentiments:\n",
    "    for aspect, sentiment in aspect_sentiments.items():\n",
    "        if sentiment != 'NA':  # Exclude the last sentiment\n",
    "            total_sentiment_counts[sentiment] += 1"
   ]
  },
  {
   "cell_type": "code",
   "execution_count": 23,
   "id": "e0f80c8a-a387-4acc-98f8-2891d196d5b0",
   "metadata": {},
   "outputs": [
    {
     "data": {
      "image/png": "[encoded data removed]",
      "text/plain": [
       "<Figure size 640x480 with 1 Axes>"
      ]
     },
     "metadata": {},
     "output_type": "display_data"
    }
   ],
   "source": [
    "plt.bar(total_sentiment_counts.keys(), total_sentiment_counts.values())\n",
    "plt.title(\"Aspect: Food Availability\")\n",
    "plt.xlabel('Sentiment')\n",
    "plt.ylabel('Count')\n",
    "plt.show()"
   ]
  },
  {
   "cell_type": "code",
   "execution_count": 24,
   "id": "c59b1421-86d3-431f-850d-840273531bfe",
   "metadata": {},
   "outputs": [
    {
     "name": "stdout",
     "output_type": "stream",
     "text": [
      "1. Death\n",
      "2. Injury\n",
      "3. Property Damage\n",
      "4. Rescue Efforts\n",
      "5. Fear and Panic\n",
      "6. Relief and Support\n",
      "7. Food Availability\n",
      "8. Shelter\n",
      "9. Government Response\n",
      "10. Requests for Help\n",
      "11. Basic Needs\n"
     ]
    },
    {
     "name": "stdin",
     "output_type": "stream",
     "text": [
      "Please enter the number corresponding to the array you want to proceed with:  8\n"
     ]
    },
    {
     "name": "stdout",
     "output_type": "stream",
     "text": [
      "Selected array: ['shelter', 'housing', 'homeless', 'evacuation center', 'temporary shelter', 'house', 'home']\n"
     ]
    },
    {
     "name": "stderr",
     "output_type": "stream",
     "text": [
      "Processing Tweets: 100%|███████████████████████████████████████████████████████████| 5182/5182 [03:43<00:00, 23.14it/s]\n"
     ]
    }
   ],
   "source": [
    "for idx, aspect in enumerate(aspects.keys()):\n",
    "    print(f\"{idx + 1}. {aspect}\")\n",
    "\n",
    "# Ask the user to choose an array\n",
    "selected_index = int(input(\"Please enter the number corresponding to the array you want to proceed with: \")) - 1\n",
    "\n",
    "# Get the selected array based on the index provided by the user\n",
    "selected_array = list(aspects.values())[selected_index]\n",
    "\n",
    "# Display the selected array\n",
    "print(\"Selected array:\", selected_array)\n",
    "\n",
    "sentiments = []  # List to store sentiments for each aspect\n",
    "\n",
    "# Loop through each row in the DataFrame with a progress bar\n",
    "for index, row in tqdm(df.iterrows(), total=len(df), desc=\"Processing Tweets\"):\n",
    "    tweet_text = row['processed_text']\n",
    "    \n",
    "    aspect_sentiments = {}  # Dictionary to store sentiment for each aspect in the current tweet\n",
    "    \n",
    "    for aspect in selected_array:\n",
    "        sentiment = absa(tweet_text, aspect)  # Assuming absa() function returns sentiment for given aspect\n",
    "        aspect_sentiments[aspect] = sentiment\n",
    "        \n",
    "    sentiments.append(aspect_sentiments)\n",
    "\n",
    "sentiment_counts = {aspect: {'Positive': 0, 'Negative': 0, 'Neutral': 0, 'NA': 0} for aspect in aspects}\n",
    "total_sentiment_counts = {'Positive': 0, 'Negative': 0, 'Neutral': 0, 'NA': 0}\n",
    "# Update sentiment counts for each aspect\n",
    "for aspect_sentiments in sentiments:\n",
    "    for aspect, sentiment in aspect_sentiments.items():\n",
    "        if sentiment != 'NA':  # Exclude the last sentiment\n",
    "            total_sentiment_counts[sentiment] += 1\n",
    "        \n",
    "# Aggregate sentiment counts across all aspects\n",
    "for aspect_sentiments in sentiments:\n",
    "    for aspect, sentiment in aspect_sentiments.items():\n",
    "        if sentiment != 'NA':  # Exclude the last sentiment\n",
    "            total_sentiment_counts[sentiment] += 1"
   ]
  },
  {
   "cell_type": "code",
   "execution_count": 25,
   "id": "a66f5275-bd87-4b91-9b80-3a113ff55ecd",
   "metadata": {},
   "outputs": [
    {
     "data": {
      "image/png": "[encoded data removed]",
      "text/plain": [
       "<Figure size 640x480 with 1 Axes>"
      ]
     },
     "metadata": {},
     "output_type": "display_data"
    }
   ],
   "source": [
    "plt.bar(total_sentiment_counts.keys(), total_sentiment_counts.values())\n",
    "plt.title(\"Aspect: Shelter\")\n",
    "plt.xlabel('Sentiment')\n",
    "plt.ylabel('Count')\n",
    "plt.show()"
   ]
  },
  {
   "cell_type": "code",
   "execution_count": 26,
   "id": "4e7022d4-0cd3-4fd8-8cfb-d325898c0dd6",
   "metadata": {},
   "outputs": [
    {
     "name": "stdout",
     "output_type": "stream",
     "text": [
      "1. Death\n",
      "2. Injury\n",
      "3. Property Damage\n",
      "4. Rescue Efforts\n",
      "5. Fear and Panic\n",
      "6. Relief and Support\n",
      "7. Food Availability\n",
      "8. Shelter\n",
      "9. Government Response\n",
      "10. Requests for Help\n",
      "11. Basic Needs\n"
     ]
    },
    {
     "name": "stdin",
     "output_type": "stream",
     "text": [
      "Please enter the number corresponding to the array you want to proceed with:  9\n"
     ]
    },
    {
     "name": "stdout",
     "output_type": "stream",
     "text": [
      "Selected array: ['government', 'officials', 'response', 'relief efforts', 'emergency services']\n"
     ]
    },
    {
     "name": "stderr",
     "output_type": "stream",
     "text": [
      "Processing Tweets: 100%|███████████████████████████████████████████████████████████| 5182/5182 [02:37<00:00, 32.91it/s]\n"
     ]
    }
   ],
   "source": [
    "for idx, aspect in enumerate(aspects.keys()):\n",
    "    print(f\"{idx + 1}. {aspect}\")\n",
    "\n",
    "# Ask the user to choose an array\n",
    "selected_index = int(input(\"Please enter the number corresponding to the array you want to proceed with: \")) - 1\n",
    "\n",
    "# Get the selected array based on the index provided by the user\n",
    "selected_array = list(aspects.values())[selected_index]\n",
    "\n",
    "# Display the selected array\n",
    "print(\"Selected array:\", selected_array)\n",
    "\n",
    "sentiments = []  # List to store sentiments for each aspect\n",
    "\n",
    "# Loop through each row in the DataFrame with a progress bar\n",
    "for index, row in tqdm(df.iterrows(), total=len(df), desc=\"Processing Tweets\"):\n",
    "    tweet_text = row['processed_text']\n",
    "    \n",
    "    aspect_sentiments = {}  # Dictionary to store sentiment for each aspect in the current tweet\n",
    "    \n",
    "    for aspect in selected_array:\n",
    "        sentiment = absa(tweet_text, aspect)  # Assuming absa() function returns sentiment for given aspect\n",
    "        aspect_sentiments[aspect] = sentiment\n",
    "        \n",
    "    sentiments.append(aspect_sentiments)\n",
    "\n",
    "sentiment_counts = {aspect: {'Positive': 0, 'Negative': 0, 'Neutral': 0, 'NA': 0} for aspect in aspects}\n",
    "total_sentiment_counts = {'Positive': 0, 'Negative': 0, 'Neutral': 0, 'NA': 0}\n",
    "# Update sentiment counts for each aspect\n",
    "for aspect_sentiments in sentiments:\n",
    "    for aspect, sentiment in aspect_sentiments.items():\n",
    "        if sentiment != 'NA':  # Exclude the last sentiment\n",
    "            total_sentiment_counts[sentiment] += 1\n",
    "        \n",
    "# Aggregate sentiment counts across all aspects\n",
    "for aspect_sentiments in sentiments:\n",
    "    for aspect, sentiment in aspect_sentiments.items():\n",
    "        if sentiment != 'NA':  # Exclude the last sentiment\n",
    "            total_sentiment_counts[sentiment] += 1"
   ]
  },
  {
   "cell_type": "code",
   "execution_count": 27,
   "id": "4662ca74-7c38-4959-affd-4b37aa2d2413",
   "metadata": {},
   "outputs": [
    {
     "data": {
      "image/png": "[encoded data removed]",
      "text/plain": [
       "<Figure size 640x480 with 1 Axes>"
      ]
     },
     "metadata": {},
     "output_type": "display_data"
    }
   ],
   "source": [
    "plt.bar(total_sentiment_counts.keys(), total_sentiment_counts.values())\n",
    "plt.title(\"Aspect: Government Response\")\n",
    "plt.xlabel('Sentiment')\n",
    "plt.ylabel('Count')\n",
    "plt.show()"
   ]
  },
  {
   "cell_type": "code",
   "execution_count": 28,
   "id": "4b222921-7991-4774-9b6c-fd6fdb91aaf3",
   "metadata": {},
   "outputs": [
    {
     "name": "stdout",
     "output_type": "stream",
     "text": [
      "1. Death\n",
      "2. Injury\n",
      "3. Property Damage\n",
      "4. Rescue Efforts\n",
      "5. Fear and Panic\n",
      "6. Relief and Support\n",
      "7. Food Availability\n",
      "8. Shelter\n",
      "9. Government Response\n",
      "10. Requests for Help\n",
      "11. Basic Needs\n"
     ]
    },
    {
     "name": "stdin",
     "output_type": "stream",
     "text": [
      "Please enter the number corresponding to the array you want to proceed with:  11\n"
     ]
    },
    {
     "name": "stdout",
     "output_type": "stream",
     "text": [
      "Selected array: ['basic needs', 'water', 'clothing', 'medicine', 'medical supplies']\n"
     ]
    },
    {
     "name": "stderr",
     "output_type": "stream",
     "text": [
      "Processing Tweets: 100%|███████████████████████████████████████████████████████████| 5182/5182 [02:40<00:00, 32.34it/s]\n"
     ]
    }
   ],
   "source": [
    "for idx, aspect in enumerate(aspects.keys()):\n",
    "    print(f\"{idx + 1}. {aspect}\")\n",
    "\n",
    "# Ask the user to choose an array\n",
    "selected_index = int(input(\"Please enter the number corresponding to the array you want to proceed with: \")) - 1\n",
    "\n",
    "# Get the selected array based on the index provided by the user\n",
    "selected_array = list(aspects.values())[selected_index]\n",
    "\n",
    "# Display the selected array\n",
    "print(\"Selected array:\", selected_array)\n",
    "\n",
    "sentiments = []  # List to store sentiments for each aspect\n",
    "\n",
    "# Loop through each row in the DataFrame with a progress bar\n",
    "for index, row in tqdm(df.iterrows(), total=len(df), desc=\"Processing Tweets\"):\n",
    "    tweet_text = row['processed_text']\n",
    "    \n",
    "    aspect_sentiments = {}  # Dictionary to store sentiment for each aspect in the current tweet\n",
    "    \n",
    "    for aspect in selected_array:\n",
    "        sentiment = absa(tweet_text, aspect)  # Assuming absa() function returns sentiment for given aspect\n",
    "        aspect_sentiments[aspect] = sentiment\n",
    "        \n",
    "    sentiments.append(aspect_sentiments)\n",
    "\n",
    "sentiment_counts = {aspect: {'Positive': 0, 'Negative': 0, 'Neutral': 0, 'NA': 0} for aspect in aspects}\n",
    "total_sentiment_counts = {'Positive': 0, 'Negative': 0, 'Neutral': 0, 'NA': 0}\n",
    "# Update sentiment counts for each aspect\n",
    "for aspect_sentiments in sentiments:\n",
    "    for aspect, sentiment in aspect_sentiments.items():\n",
    "        if sentiment != 'NA':  # Exclude the last sentiment\n",
    "            total_sentiment_counts[sentiment] += 1\n",
    "        \n",
    "# Aggregate sentiment counts across all aspects\n",
    "for aspect_sentiments in sentiments:\n",
    "    for aspect, sentiment in aspect_sentiments.items():\n",
    "        if sentiment != 'NA':  # Exclude the last sentiment\n",
    "            total_sentiment_counts[sentiment] += 1"
   ]
  },
  {
   "cell_type": "code",
   "execution_count": 29,
   "id": "2954e433-71dc-4354-a635-df10558fbcba",
   "metadata": {},
   "outputs": [
    {
     "data": {
      "image/png": "[encoded data removed]",
      "text/plain": [
       "<Figure size 640x480 with 1 Axes>"
      ]
     },
     "metadata": {},
     "output_type": "display_data"
    }
   ],
   "source": [
    "plt.bar(total_sentiment_counts.keys(), total_sentiment_counts.values())\n",
    "plt.title(\"Aspect: Basic Needs\")\n",
    "plt.xlabel('Sentiment')\n",
    "plt.ylabel('Count')\n",
    "plt.show()"
   ]
  },
  {
   "cell_type": "code",
   "execution_count": null,
   "id": "76e0f29c-7c43-446c-a7e6-2c896cbae7eb",
   "metadata": {},
   "outputs": [],
   "source": []
  }
 ],
 "metadata": {
  "kernelspec": {
   "display_name": "Python 3 (ipykernel)",
   "language": "python",
   "name": "python3"
  },
  "language_info": {
   "codemirror_mode": {
    "name": "ipython",
    "version": 3
   },
   "file_extension": ".py",
   "mimetype": "text/x-python",
   "name": "python",
   "nbconvert_exporter": "python",
   "pygments_lexer": "ipython3",
   "version": "3.12.2"
  }
 },
 "nbformat": 4,
 "nbformat_minor": 5
}
